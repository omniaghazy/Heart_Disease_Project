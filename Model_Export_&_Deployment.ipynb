{
  "nbformat": 4,
  "nbformat_minor": 0,
  "metadata": {
    "colab": {
      "provenance": [],
      "authorship_tag": "ABX9TyNFz/+g2WL0SFSUsB/QY7lF",
      "include_colab_link": true
    },
    "kernelspec": {
      "name": "python3",
      "display_name": "Python 3"
    },
    "language_info": {
      "name": "python"
    }
  },
  "cells": [
    {
      "cell_type": "markdown",
      "metadata": {
        "id": "view-in-github",
        "colab_type": "text"
      },
      "source": [
        "<a href=\"https://colab.research.google.com/github/omniaghazy/Heart_Disease_Project/blob/main/Model_Export_%26_Deployment.ipynb\" target=\"_parent\"><img src=\"https://colab.research.google.com/assets/colab-badge.svg\" alt=\"Open In Colab\"/></a>"
      ]
    },
    {
      "cell_type": "code",
      "execution_count": 1,
      "metadata": {
        "colab": {
          "base_uri": "https://localhost:8080/"
        },
        "id": "UBblL02XFJk5",
        "outputId": "005bafb3-706f-49f0-85c4-7f1455653959"
      },
      "outputs": [
        {
          "output_type": "stream",
          "name": "stdout",
          "text": [
            "تم إنشاء وحفظ الـPipeline بنجاح.\n"
          ]
        }
      ],
      "source": [
        "import pandas as pd\n",
        "from sklearn.pipeline import Pipeline\n",
        "from sklearn.preprocessing import    RobustScaler\n",
        "from sklearn.ensemble import RandomForestClassifier\n",
        "import joblib\n",
        "\n",
        "# 1. قراءة الداتا اللي تم اختيار أعمدتها\n",
        "df = pd.read_csv('selected_features_data.csv')\n",
        "X = df.drop('num', axis=1)\n",
        "y = df['num']\n",
        "\n",
        "\n",
        "best_params = {'max_depth': None, 'min_samples_split': 10, 'n_estimators': 300}\n",
        "\n",
        "# 3. إنشاء الـPipeline\n",
        "pipeline = Pipeline(steps=[\n",
        "    ('scaler', RobustScaler()),\n",
        "    ('classifier', RandomForestClassifier(random_state=42, **best_params))\n",
        "])\n",
        "\n",
        "\n",
        "pipeline.fit(X, y)\n",
        "\n",
        "# 5. حفظ الـPipeline في ملف\n",
        "joblib.dump(pipeline, '../content/final_pipeline.pkl')\n",
        "\n",
        "print(\"تم إنشاء وحفظ الـPipeline بنجاح.\")"
      ]
    },
    {
      "cell_type": "code",
      "source": [],
      "metadata": {
        "id": "lyjLV2rwFtFa"
      },
      "execution_count": null,
      "outputs": []
    }
  ]
}