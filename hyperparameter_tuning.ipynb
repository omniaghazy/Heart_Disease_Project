{
  "nbformat": 4,
  "nbformat_minor": 0,
  "metadata": {
    "colab": {
      "provenance": [],
      "authorship_tag": "ABX9TyNN0vfLMF+LUgefdtZrXveL",
      "include_colab_link": true
    },
    "kernelspec": {
      "name": "python3",
      "display_name": "Python 3"
    },
    "language_info": {
      "name": "python"
    }
  },
  "cells": [
    {
      "cell_type": "markdown",
      "metadata": {
        "id": "view-in-github",
        "colab_type": "text"
      },
      "source": [
        "<a href=\"https://colab.research.google.com/github/omniaghazy/Heart_Disease_Project/blob/main/hyperparameter_tuning.ipynb\" target=\"_parent\"><img src=\"https://colab.research.google.com/assets/colab-badge.svg\" alt=\"Open In Colab\"/></a>"
      ]
    },
    {
      "cell_type": "code",
      "execution_count": 1,
      "metadata": {
        "colab": {
          "base_uri": "https://localhost:8080/"
        },
        "id": "pMBS9ZpMBnNE",
        "outputId": "1451ab8f-eac9-4df2-9da8-4b9ea4f4df47"
      },
      "outputs": [
        {
          "output_type": "stream",
          "name": "stdout",
          "text": [
            "تم تحميل الداتا والمودل بنجاح.\n"
          ]
        }
      ],
      "source": [
        "import pandas as pd\n",
        "import joblib\n",
        "\n",
        "# قراءة الداتا اللي تم اختيار أعمدتها\n",
        "df = pd.read_csv('selected_features_data.csv')\n",
        "\n",
        "# فصل الـfeatures عن الـtarget\n",
        "X = df.drop('num', axis=1)\n",
        "y = df['num']\n",
        "\n",
        "# تحميل المودل اللي تم حفظه مسبقًا\n",
        "rf_model = joblib.load('random_forest_model.pkl')\n",
        "\n",
        "print(\"تم تحميل الداتا والمودل بنجاح.\")"
      ]
    },
    {
      "cell_type": "code",
      "source": [
        "from sklearn.model_selection import GridSearchCV\n",
        "from sklearn.ensemble import RandomForestClassifier\n",
        "\n",
        "param_grid = {\n",
        "    'n_estimators': [100, 200, 300],\n",
        "    'max_depth': [None, 10, 20],\n",
        "    'min_samples_split': [2, 5, 10],\n",
        "}\n",
        "\n",
        "rf_base = RandomForestClassifier(random_state=42)\n",
        "\n",
        "grid_search = GridSearchCV(estimator=rf_base, param_grid=param_grid,\n",
        "                           cv=5, scoring='f1', n_jobs=-1, verbose=1)\n",
        "\n",
        "grid_search.fit(X, y)\n",
        "\n",
        "print(\"أفضل Hyperparameters: \", grid_search.best_params_)\n",
        "print(\"أفضل F1-Score: \", grid_search.best_score_)\n",
        "\n",
        "best_model = grid_search.best_estimator_\n",
        "joblib.dump(best_model, '../content/tuned_random_forest_model.pkl')\n",
        "\n",
        "print(\"تم حفظ المودل المحسن بنجاح.\")"
      ],
      "metadata": {
        "colab": {
          "base_uri": "https://localhost:8080/"
        },
        "id": "CupNfTToB-iu",
        "outputId": "15b42d56-8a65-4d1d-c159-a9ed2b1abaff"
      },
      "execution_count": 3,
      "outputs": [
        {
          "output_type": "stream",
          "name": "stdout",
          "text": [
            "Fitting 5 folds for each of 27 candidates, totalling 135 fits\n",
            "أفضل Hyperparameters:  {'max_depth': None, 'min_samples_split': 10, 'n_estimators': 300}\n",
            "أفضل F1-Score:  0.7810880907876714\n",
            "تم حفظ المودل المحسن بنجاح.\n"
          ]
        }
      ]
    },
    {
      "cell_type": "code",
      "source": [],
      "metadata": {
        "id": "T4Usge6HCKwC"
      },
      "execution_count": null,
      "outputs": []
    }
  ]
}